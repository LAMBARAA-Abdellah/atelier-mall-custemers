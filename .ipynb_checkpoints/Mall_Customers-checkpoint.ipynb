{
 "cells": [
  {
   "cell_type": "code",
   "execution_count": null,
   "id": "1bf4eeba-d63d-4f35-9ed1-6e269c837c60",
   "metadata": {},
   "outputs": [],
   "source": [
    "## Importer les packages nécéssaires\n",
    "import pandas as ps\n",
    "import numpy as np\n",
    "from sklearn.metrics.pairwise import cosine_similarity, euclidean_distances,manhattan_distances\n",
    "from scipy.spatial.distance import correlation\n",
    "import seaborn as sns\n",
    "import matplotlib.pyplot as plt\n",
    "print(\"Importer les packages nécéssaires sycessefly\")"
   ]
  },
  {
   "cell_type": "code",
   "execution_count": null,
   "id": "d66b03db-9d75-496b-a88e-639a532358fc",
   "metadata": {},
   "outputs": [],
   "source": []
  }
 ],
 "metadata": {
  "kernelspec": {
   "display_name": "Python 3 (ipykernel)",
   "language": "python",
   "name": "python3"
  },
  "language_info": {
   "codemirror_mode": {
    "name": "ipython",
    "version": 3
   },
   "file_extension": ".py",
   "mimetype": "text/x-python",
   "name": "python",
   "nbconvert_exporter": "python",
   "pygments_lexer": "ipython3",
   "version": "3.10.6"
  }
 },
 "nbformat": 4,
 "nbformat_minor": 5
}
