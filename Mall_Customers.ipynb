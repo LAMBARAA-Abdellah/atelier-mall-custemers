{
 "cells": [
  {
   "cell_type": "code",
   "execution_count": 27,
   "id": "1bf4eeba-d63d-4f35-9ed1-6e269c837c60",
   "metadata": {},
   "outputs": [
    {
     "name": "stdout",
     "output_type": "stream",
     "text": [
      "Importer les packages nécéssaires\n"
     ]
    }
   ],
   "source": [
    "# Importer les packages nécéssaires\n",
    "import pandas as pd\n",
    "import numpy as np\n",
    "from sklearn.metrics.pairwise import cosine_similarity, euclidean_distances,manhattan_distances\n",
    "from scipy.spatial.distance import correlation\n",
    "import seaborn as sns\n",
    "import matplotlib.pyplot as plt\n",
    "print(\"Importer les packages nécéssaires\")"
   ]
  },
  {
   "cell_type": "code",
   "execution_count": 32,
   "id": "d66b03db-9d75-496b-a88e-639a532358fc",
   "metadata": {},
   "outputs": [
    {
     "name": "stdout",
     "output_type": "stream",
     "text": [
      "read data and Nettoyer les noms de colonnes (espaces, BOM)\n"
     ]
    }
   ],
   "source": [
    "data = pd.read_csv(\"Mall_Customers.csv\", sep=\";\", encoding=\"utf-8-sig\")\n",
    "data.columns = (\n",
    "    data.columns.str.replace(\"\\ufeff\", \"\", regex=True)\n",
    "                    .str.strip()\n",
    ")\n",
    "print(\"read data and Nettoyer les noms de colonnes (espaces, BOM)\")"
   ]
  },
  {
   "cell_type": "code",
   "execution_count": 35,
   "id": "9bbea06a-89a5-44c3-b837-eb54d1667677",
   "metadata": {},
   "outputs": [
    {
     "name": "stdout",
     "output_type": "stream",
     "text": [
      "Les 5 premières lignes du jeu de données :\n"
     ]
    },
    {
     "data": {
      "text/html": [
       "<div>\n",
       "<style scoped>\n",
       "    .dataframe tbody tr th:only-of-type {\n",
       "        vertical-align: middle;\n",
       "    }\n",
       "\n",
       "    .dataframe tbody tr th {\n",
       "        vertical-align: top;\n",
       "    }\n",
       "\n",
       "    .dataframe thead th {\n",
       "        text-align: right;\n",
       "    }\n",
       "</style>\n",
       "<table border=\"1\" class=\"dataframe\">\n",
       "  <thead>\n",
       "    <tr style=\"text-align: right;\">\n",
       "      <th></th>\n",
       "      <th>CustomerID</th>\n",
       "      <th>Genre</th>\n",
       "      <th>Age</th>\n",
       "      <th>Annual Income (k$)</th>\n",
       "      <th>Spending Score (1-100)</th>\n",
       "    </tr>\n",
       "  </thead>\n",
       "  <tbody>\n",
       "    <tr>\n",
       "      <th>0</th>\n",
       "      <td>1</td>\n",
       "      <td>Male</td>\n",
       "      <td>19</td>\n",
       "      <td>15</td>\n",
       "      <td>39</td>\n",
       "    </tr>\n",
       "    <tr>\n",
       "      <th>1</th>\n",
       "      <td>2</td>\n",
       "      <td>Male</td>\n",
       "      <td>21</td>\n",
       "      <td>15</td>\n",
       "      <td>81</td>\n",
       "    </tr>\n",
       "    <tr>\n",
       "      <th>2</th>\n",
       "      <td>3</td>\n",
       "      <td>Female</td>\n",
       "      <td>20</td>\n",
       "      <td>16</td>\n",
       "      <td>6</td>\n",
       "    </tr>\n",
       "    <tr>\n",
       "      <th>3</th>\n",
       "      <td>4</td>\n",
       "      <td>Female</td>\n",
       "      <td>23</td>\n",
       "      <td>16</td>\n",
       "      <td>77</td>\n",
       "    </tr>\n",
       "    <tr>\n",
       "      <th>4</th>\n",
       "      <td>5</td>\n",
       "      <td>Female</td>\n",
       "      <td>31</td>\n",
       "      <td>17</td>\n",
       "      <td>40</td>\n",
       "    </tr>\n",
       "  </tbody>\n",
       "</table>\n",
       "</div>"
      ],
      "text/plain": [
       "   CustomerID   Genre  Age  Annual Income (k$)  Spending Score (1-100)\n",
       "0           1    Male   19                  15                      39\n",
       "1           2    Male   21                  15                      81\n",
       "2           3  Female   20                  16                       6\n",
       "3           4  Female   23                  16                      77\n",
       "4           5  Female   31                  17                      40"
      ]
     },
     "metadata": {},
     "output_type": "display_data"
    },
    {
     "name": "stdout",
     "output_type": "stream",
     "text": [
      "\n",
      "Les 5 dernières lignes du jeu de données :\n"
     ]
    },
    {
     "data": {
      "text/html": [
       "<div>\n",
       "<style scoped>\n",
       "    .dataframe tbody tr th:only-of-type {\n",
       "        vertical-align: middle;\n",
       "    }\n",
       "\n",
       "    .dataframe tbody tr th {\n",
       "        vertical-align: top;\n",
       "    }\n",
       "\n",
       "    .dataframe thead th {\n",
       "        text-align: right;\n",
       "    }\n",
       "</style>\n",
       "<table border=\"1\" class=\"dataframe\">\n",
       "  <thead>\n",
       "    <tr style=\"text-align: right;\">\n",
       "      <th></th>\n",
       "      <th>CustomerID</th>\n",
       "      <th>Genre</th>\n",
       "      <th>Age</th>\n",
       "      <th>Annual Income (k$)</th>\n",
       "      <th>Spending Score (1-100)</th>\n",
       "    </tr>\n",
       "  </thead>\n",
       "  <tbody>\n",
       "    <tr>\n",
       "      <th>195</th>\n",
       "      <td>196</td>\n",
       "      <td>Female</td>\n",
       "      <td>35</td>\n",
       "      <td>120</td>\n",
       "      <td>79</td>\n",
       "    </tr>\n",
       "    <tr>\n",
       "      <th>196</th>\n",
       "      <td>197</td>\n",
       "      <td>Female</td>\n",
       "      <td>45</td>\n",
       "      <td>126</td>\n",
       "      <td>28</td>\n",
       "    </tr>\n",
       "    <tr>\n",
       "      <th>197</th>\n",
       "      <td>198</td>\n",
       "      <td>Male</td>\n",
       "      <td>32</td>\n",
       "      <td>126</td>\n",
       "      <td>74</td>\n",
       "    </tr>\n",
       "    <tr>\n",
       "      <th>198</th>\n",
       "      <td>199</td>\n",
       "      <td>Male</td>\n",
       "      <td>32</td>\n",
       "      <td>137</td>\n",
       "      <td>18</td>\n",
       "    </tr>\n",
       "    <tr>\n",
       "      <th>199</th>\n",
       "      <td>200</td>\n",
       "      <td>Male</td>\n",
       "      <td>30</td>\n",
       "      <td>137</td>\n",
       "      <td>83</td>\n",
       "    </tr>\n",
       "  </tbody>\n",
       "</table>\n",
       "</div>"
      ],
      "text/plain": [
       "     CustomerID   Genre  Age  Annual Income (k$)  Spending Score (1-100)\n",
       "195         196  Female   35                 120                      79\n",
       "196         197  Female   45                 126                      28\n",
       "197         198    Male   32                 126                      74\n",
       "198         199    Male   32                 137                      18\n",
       "199         200    Male   30                 137                      83"
      ]
     },
     "metadata": {},
     "output_type": "display_data"
    }
   ],
   "source": [
    "print(\"Les 5 premières lignes du jeu de données :\")\n",
    "display(data.head())  # ou data.head()\n",
    "\n",
    "# Afficher les 5 dernières lignes (tail)\n",
    "print(\"\\nLes 5 dernières lignes du jeu de données :\")\n",
    "display(data.tail())  # ou data.tail()"
   ]
  },
  {
   "cell_type": "code",
   "execution_count": 38,
   "id": "6e774129-7fa4-4ff1-8063-a4e0e6dea0dd",
   "metadata": {},
   "outputs": [
    {
     "name": "stdout",
     "output_type": "stream",
     "text": [
      "(200, 3)\n"
     ]
    },
    {
     "data": {
      "text/html": [
       "<div>\n",
       "<style scoped>\n",
       "    .dataframe tbody tr th:only-of-type {\n",
       "        vertical-align: middle;\n",
       "    }\n",
       "\n",
       "    .dataframe tbody tr th {\n",
       "        vertical-align: top;\n",
       "    }\n",
       "\n",
       "    .dataframe thead th {\n",
       "        text-align: right;\n",
       "    }\n",
       "</style>\n",
       "<table border=\"1\" class=\"dataframe\">\n",
       "  <thead>\n",
       "    <tr style=\"text-align: right;\">\n",
       "      <th></th>\n",
       "      <th>Age</th>\n",
       "      <th>Annual Income (k$)</th>\n",
       "      <th>Spending Score (1-100)</th>\n",
       "    </tr>\n",
       "  </thead>\n",
       "  <tbody>\n",
       "    <tr>\n",
       "      <th>0</th>\n",
       "      <td>19</td>\n",
       "      <td>15</td>\n",
       "      <td>39</td>\n",
       "    </tr>\n",
       "    <tr>\n",
       "      <th>1</th>\n",
       "      <td>21</td>\n",
       "      <td>15</td>\n",
       "      <td>81</td>\n",
       "    </tr>\n",
       "    <tr>\n",
       "      <th>2</th>\n",
       "      <td>20</td>\n",
       "      <td>16</td>\n",
       "      <td>6</td>\n",
       "    </tr>\n",
       "    <tr>\n",
       "      <th>3</th>\n",
       "      <td>23</td>\n",
       "      <td>16</td>\n",
       "      <td>77</td>\n",
       "    </tr>\n",
       "    <tr>\n",
       "      <th>4</th>\n",
       "      <td>31</td>\n",
       "      <td>17</td>\n",
       "      <td>40</td>\n",
       "    </tr>\n",
       "  </tbody>\n",
       "</table>\n",
       "</div>"
      ],
      "text/plain": [
       "   Age  Annual Income (k$)  Spending Score (1-100)\n",
       "0   19                  15                      39\n",
       "1   21                  15                      81\n",
       "2   20                  16                       6\n",
       "3   23                  16                      77\n",
       "4   31                  17                      40"
      ]
     },
     "execution_count": 38,
     "metadata": {},
     "output_type": "execute_result"
    }
   ],
   "source": [
    "# Variables quantitatives utiles (on exclut CustomerID qui est un identifiant)\n",
    "num_cols = [\"Age\", \"Annual Income (k$)\", \"Spending Score (1-100)\"]\n",
    "data_q = data[num_cols].copy()\n",
    "print(data_q.shape)\n",
    "data_q.head()"
   ]
  },
  {
   "cell_type": "code",
   "execution_count": 40,
   "id": "730809cc-9cab-4f67-bb89-6881f2a14e9f",
   "metadata": {},
   "outputs": [
    {
     "name": "stdout",
     "output_type": "stream",
     "text": [
      "   Annual Income (k$)  Annual Income ($)\n",
      "0                  15               1500\n",
      "1                  15               1500\n",
      "2                  16               1600\n",
      "3                  16               1600\n",
      "4                  17               1700\n"
     ]
    }
   ],
   "source": [
    "# Multiplie chaque valeur de la colonne 'Annual Income (k$)' par 100\n",
    "data[\"Annual Income ($)\"] = data[\"Annual Income (k$)\"] * 100  \n",
    "\n",
    "# Affiche les 5 premières lignes pour vérifier le changement\n",
    "print(data[[\"Annual Income (k$)\", \"Annual Income ($)\"]].head())"
   ]
  },
  {
   "cell_type": "code",
   "execution_count": 41,
   "id": "91bb4d7c-269b-42c3-a21d-792631658fda",
   "metadata": {},
   "outputs": [
    {
     "name": "stdout",
     "output_type": "stream",
     "text": [
      "Les 5 premières lignes :\n",
      "   CustomerID   Genre  Age  Annual Income (k$)  Spending Score (1-100)  \\\n",
      "0           1    Male   19                  15                      39   \n",
      "1           2    Male   21                  15                      81   \n",
      "2           3  Female   20                  16                       6   \n",
      "3           4  Female   23                  16                      77   \n",
      "4           5  Female   31                  17                      40   \n",
      "\n",
      "   Annual Income ($)  \n",
      "0               1500  \n",
      "1               1500  \n",
      "2               1600  \n",
      "3               1600  \n",
      "4               1700  \n",
      "\n",
      "Les 5 dernières lignes :\n",
      "     CustomerID   Genre  Age  Annual Income (k$)  Spending Score (1-100)  \\\n",
      "195         196  Female   35                 120                      79   \n",
      "196         197  Female   45                 126                      28   \n",
      "197         198    Male   32                 126                      74   \n",
      "198         199    Male   32                 137                      18   \n",
      "199         200    Male   30                 137                      83   \n",
      "\n",
      "     Annual Income ($)  \n",
      "195              12000  \n",
      "196              12600  \n",
      "197              12600  \n",
      "198              13700  \n",
      "199              13700  \n"
     ]
    }
   ],
   "source": [
    "# Affiche les 5 premières lignes\n",
    "print(\"Les 5 premières lignes :\")\n",
    "print(data.head())\n",
    "\n",
    "# Affiche les 5 dernières lignes\n",
    "print(\"\\nLes 5 dernières lignes :\")\n",
    "print(data.tail())"
   ]
  },
  {
   "cell_type": "code",
   "execution_count": 47,
   "id": "c968da99-f8cf-4f83-89da-adc44f879581",
   "metadata": {},
   "outputs": [
    {
     "name": "stdout",
     "output_type": "stream",
     "text": [
      "[[ 0.         42.04759208 33.03028913 38.22302971 12.20655562]\n",
      " [42.04759208  0.         75.01333215  4.58257569 42.24926035]\n",
      " [33.03028913 75.01333215  0.         71.06335202 35.74912586]\n",
      " [38.22302971  4.58257569 71.06335202  0.         37.86819246]\n",
      " [12.20655562 42.24926035 35.74912586 37.86819246  0.        ]]\n"
     ]
    }
   ],
   "source": [
    "dist_euc = euclidean_distances(data_q)\n",
    "# Affiche les 5 premières distances pour vérification\n",
    "print(dist_euc[:5, :5])"
   ]
  },
  {
   "cell_type": "code",
   "execution_count": 48,
   "id": "b49798d8-b693-4512-8f7f-eccddedb4c34",
   "metadata": {},
   "outputs": [
    {
     "name": "stdout",
     "output_type": "stream",
     "text": [
      "[[ 0. 44. 35. 43. 15.]\n",
      " [44.  0. 77.  7. 53.]\n",
      " [35. 77.  0. 74. 46.]\n",
      " [43.  7. 74.  0. 46.]\n",
      " [15. 53. 46. 46.  0.]]\n"
     ]
    }
   ],
   "source": [
    "dist_man = manhattan_distances(data_q)\n",
    "print(dist_man[:5, :5])"
   ]
  },
  {
   "cell_type": "code",
   "execution_count": 52,
   "id": "b8d1e067-c29b-4a11-95b3-02c9453ad09f",
   "metadata": {},
   "outputs": [
    {
     "name": "stdout",
     "output_type": "stream",
     "text": [
      "        Age  Annual Income (k$)  Spending Score (1-100)\n",
      "0  0.019231            0.000000                0.387755\n",
      "1  0.057692            0.000000                0.816327\n",
      "2  0.038462            0.008197                0.051020\n",
      "3  0.096154            0.008197                0.775510\n",
      "4  0.250000            0.016393                0.397959\n"
     ]
    }
   ],
   "source": [
    "scaler = MinMaxScaler()\n",
    "data_n = pd.DataFrame(scaler.fit_transform(data_q), columns=data_q.columns)\n",
    "print(data_n.head())"
   ]
  },
  {
   "cell_type": "code",
   "execution_count": 55,
   "id": "38f7efa4-a510-434f-844d-31627f1b8775",
   "metadata": {},
   "outputs": [
    {
     "name": "stdout",
     "output_type": "stream",
     "text": [
      "Distance euclidienne (norm) :\n",
      " [[0.         0.43029381 0.33738296 0.39539647 0.2315757 ]\n",
      " [0.43029381 0.         0.76559158 0.05667847 0.46074096]\n",
      " [0.33738296 0.76559158 0.         0.72678323 0.40642616]\n",
      " [0.39539647 0.05667847 0.72678323 0.         0.40777518]\n",
      " [0.2315757  0.46074096 0.40642616 0.40777518 0.        ]]\n",
      "\n",
      "Distance de Manhattan (norm) :\n",
      " [[0.         0.46703297 0.36416218 0.4728749  0.25736676]\n",
      " [0.46703297 0.         0.79273361 0.08747459 0.62706848]\n",
      " [0.36416218 0.79273361 0.         0.7821821  0.56667396]\n",
      " [0.4728749  0.08747459 0.7821821  0.         0.5395939 ]\n",
      " [0.25736676 0.62706848 0.56667396 0.5395939  0.        ]]\n"
     ]
    }
   ],
   "source": [
    "# Recalculer les distances sur les données normalisées\n",
    "dist_euc_norm = euclidean_distances(data_n)\n",
    "dist_man_norm = manhattan_distances(data_n)\n",
    "print(\"Distance euclidienne (norm) :\\n\", dist_euc_norm[:5, :5])\n",
    "print(\"\\nDistance de Manhattan (norm) :\\n\", dist_man_norm[:5, :5])"
   ]
  },
  {
   "cell_type": "code",
   "execution_count": 56,
   "id": "53aaee92-1af7-4050-8328-7dc52b784961",
   "metadata": {},
   "outputs": [
    {
     "name": "stdout",
     "output_type": "stream",
     "text": [
      "[[1.         0.99977948 0.82063566 0.99722288 0.87155643]\n",
      " [0.99977948 1.         0.83215373 0.99855134 0.88163422]\n",
      " [0.82063566 0.83215373 1.         0.86076814 0.99212071]\n",
      " [0.99722288 0.99855134 0.86076814 1.         0.90556096]\n",
      " [0.87155643 0.88163422 0.99212071 0.90556096 1.        ]]\n"
     ]
    }
   ],
   "source": [
    "# 11) Similarité cosinus (entre clients) sur données normalisées\n",
    "cos_sim = cosine_similarity(data_n)\n",
    "print(cos_sim[:5, :5])  # aperçu"
   ]
  },
  {
   "cell_type": "code",
   "execution_count": 57,
   "id": "fcf78e57-21a7-448b-a134-cd17ee4674ba",
   "metadata": {},
   "outputs": [
    {
     "name": "stdout",
     "output_type": "stream",
     "text": [
      "[[1.         0.99981285 0.75580656 0.99814573 0.82052932]\n",
      " [0.99981285 1.         0.76833288 0.99913652 0.83143411]\n",
      " [0.75580656 0.76833288 1.         0.79426212 0.99444515]\n",
      " [0.99814573 0.99913652 0.79426212 1.         0.85380111]\n",
      " [0.82052932 0.83143411 0.99444515 0.85380111 1.        ]]\n"
     ]
    }
   ],
   "source": [
    "# 12) Similarité de corrélation de Pearson (entre clients)\n",
    "sim_corr = np.corrcoef(data_n, rowvar=True)\n",
    "print(sim_corr[:5, :5])"
   ]
  },
  {
   "cell_type": "code",
   "execution_count": 58,
   "id": "6644f7c1-e679-43c2-8aec-276da68ac5f7",
   "metadata": {},
   "outputs": [
    {
     "name": "stdout",
     "output_type": "stream",
     "text": [
      "Comparaison : Distance Euclidienne vs Similarité Cosinus\n",
      "Euclidienne (premières valeurs):\n",
      " [[0.         0.43029381 0.33738296 0.39539647 0.2315757 ]\n",
      " [0.43029381 0.         0.76559158 0.05667847 0.46074096]\n",
      " [0.33738296 0.76559158 0.         0.72678323 0.40642616]\n",
      " [0.39539647 0.05667847 0.72678323 0.         0.40777518]\n",
      " [0.2315757  0.46074096 0.40642616 0.40777518 0.        ]]\n",
      "\n",
      "Cosinus (premières valeurs):\n",
      " [[1.         0.99977948 0.82063566 0.99722288 0.87155643]\n",
      " [0.99977948 1.         0.83215373 0.99855134 0.88163422]\n",
      " [0.82063566 0.83215373 1.         0.86076814 0.99212071]\n",
      " [0.99722288 0.99855134 0.86076814 1.         0.90556096]\n",
      " [0.87155643 0.88163422 0.99212071 0.90556096 1.        ]]\n"
     ]
    }
   ],
   "source": [
    "# Comparaison visuelle des matrices\n",
    "print(\"Comparaison : Distance Euclidienne vs Similarité Cosinus\")\n",
    "print(\"Euclidienne (premières valeurs):\\n\", dist_euc_norm[:5, :5])\n",
    "print(\"\\nCosinus (premières valeurs):\\n\", cos_sim[:5, :5])"
   ]
  },
  {
   "cell_type": "code",
   "execution_count": 59,
   "id": "b6f0511b-1c72-4d28-82a8-0b09160bb776",
   "metadata": {},
   "outputs": [
    {
     "data": {
      "image/png": "[encoded data removed]",
      "text/plain": [
       "<Figure size 1000x400 with 4 Axes>"
      ]
     },
     "metadata": {},
     "output_type": "display_data"
    }
   ],
   "source": [
    "plt.figure(figsize=(10,4))\n",
    "\n",
    "plt.subplot(1,2,1)\n",
    "plt.imshow(dist_euc_norm[:30, :30], cmap=\"viridis\")\n",
    "plt.title(\"Distance Euclidienne (normalisée)\")\n",
    "plt.colorbar()\n",
    "\n",
    "plt.subplot(1,2,2)\n",
    "plt.imshow(cos_sim[:30, :30], cmap=\"plasma\")\n",
    "plt.title(\"Similarité Cosinus\")\n",
    "plt.colorbar()\n",
    "\n",
    "plt.tight_layout()\n",
    "plt.show()"
   ]
  },
  {
   "cell_type": "code",
   "execution_count": null,
   "id": "13dfaaec-d2cb-49aa-879c-d669554ee267",
   "metadata": {},
   "outputs": [],
   "source": []
  }
 ],
 "metadata": {
  "kernelspec": {
   "display_name": "Python 3 (ipykernel)",
   "language": "python",
   "name": "python3"
  },
  "language_info": {
   "codemirror_mode": {
    "name": "ipython",
    "version": 3
   },
   "file_extension": ".py",
   "mimetype": "text/x-python",
   "name": "python",
   "nbconvert_exporter": "python",
   "pygments_lexer": "ipython3",
   "version": "3.10.6"
  }
 },
 "nbformat": 4,
 "nbformat_minor": 5
}
